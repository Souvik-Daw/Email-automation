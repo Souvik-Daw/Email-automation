{
 "cells": [
  {
   "cell_type": "code",
   "execution_count": 11,
   "id": "ba1051e6-3af5-40e6-8be8-3176c3fd30b8",
   "metadata": {},
   "outputs": [],
   "source": [
    "import smtplib\n",
    "import pandas as pd\n",
    "import time\n",
    "import random\n",
    "#openpyxl xlrd"
   ]
  },
  {
   "cell_type": "code",
   "execution_count": null,
   "id": "e636878e-4e37-44c8-8372-6b2ea5d0b08a",
   "metadata": {},
   "outputs": [
    {
     "name": "stdout",
     "output_type": "stream",
     "text": [
      "email send\n"
     ]
    }
   ],
   "source": [
    "# #single email sender\n",
    "# email = \"daw.souvik@humbleandintelligent.online\"\n",
    "# receiver_email = \"s.codingcircle@gmail.com\"\n",
    "\n",
    "# subject = \"Quick question for you\"\n",
    "# message = \"Hi,how are you?\"\n",
    "\n",
    "# text = f\"Subject: {subject}\\n\\n{message}\"\n",
    "\n",
    "# s = smtplib.SMTP('smtp.stackmail.com', 587)\n",
    "# s.starttls()\n",
    "\n",
    "# s.login(email, \"souvik123\")\n",
    "\n",
    "# s.sendmail(email, receiver_email, text)\n",
    "\n",
    "# s.quit()\n",
    "\n",
    "# print(\"email send\")"
   ]
  },
  {
   "cell_type": "code",
   "execution_count": null,
   "id": "9ba95f9c-6e13-44f1-9723-83ec66e0080a",
   "metadata": {},
   "outputs": [
    {
     "name": "stdout",
     "output_type": "stream",
     "text": [
      "email send for kodewithus340@gmail.com\n",
      "email send for souvikdebpalgupta@gmail.com\n",
      "email send for basudeb2411@gmail.com\n",
      "email sending completed\n"
     ]
    }
   ],
   "source": [
    "# #bulk email sender\n",
    "# emailList = pd.read_excel('email.xlsx')\n",
    "# email = \"daw.souvik@humbleandintelligent.online\" # need to change \n",
    "# s = smtplib.SMTP('smtp.stackmail.com', 587)\n",
    "# s.starttls()\n",
    "# s.login(email, \"souvik123\")\n",
    "\n",
    "# for index, row in emailList.iterrows():\n",
    "#     receiver_email = row['email']\n",
    "#     receiver_name = row['name']\n",
    "#     subject = \"Quick question for \"+receiver_name\n",
    "#     message = \"Dear \"+receiver_name+\"\\n\\n Hi,how are you? \\n\\n Thanks &regards\\n Souvik from KodingCircle \\n8584855651\"\n",
    "#     text = f\"Subject: {subject}\\n\\n{message}\"\n",
    "#     s.sendmail(email, receiver_email, text)\n",
    "#     print(\"email send for \"+receiver_email)\n",
    "\n",
    "# s.quit()\n",
    "# print(\"email sending completed\")"
   ]
  },
  {
   "cell_type": "code",
   "execution_count": null,
   "id": "d1572788-708b-48a8-a9a6-d7d7a40cf710",
   "metadata": {},
   "outputs": [
    {
     "name": "stdout",
     "output_type": "stream",
     "text": [
      "email send for kodewithus340@gmail.com by souvikdaw@humbleandintelligent.online\n",
      "email sending completed\n",
      "email send for souvikdebpalgupta@gmail.com by souvikdaw@humbleandintelligent.online\n",
      "email sending completed\n",
      "email send for souvikdaw2000@gmail.com by souvikdaw@humbleandintelligent.online\n",
      "email sending completed\n",
      "email send for kodewithus340@gmail.com by daw.souvik@humbleandintelligent.online\n",
      "email sending completed\n",
      "email send for souvikdebpalgupta@gmail.com by daw.souvik@humbleandintelligent.online\n",
      "email sending completed\n",
      "email send for souvikdaw2000@gmail.com by daw.souvik@humbleandintelligent.online\n",
      "email sending completed\n"
     ]
    }
   ],
   "source": [
    "# #bulk email sender with dynamic email change\n",
    "# emailList = pd.read_excel('email.xlsx')\n",
    "# for index, row in emailList.iterrows():\n",
    "#     sender_email = row['sender']\n",
    "#     email = sender_email\n",
    "#     s = smtplib.SMTP('smtp.stackmail.com', 587)\n",
    "#     s.starttls()\n",
    "#     s.login(email, \"koding2000\")\n",
    "#     receiver_email = row['email']\n",
    "#     receiver_name = row['name']\n",
    "#     subject = \"Quick question for \"+receiver_name\n",
    "#     message = \"Dear \"+receiver_name+\"\\n\\n Hi,how are you? \\n\\n Thanks &regards\\n Souvik from KodingCircle \\n8584855651\"\n",
    "#     text = f\"Subject: {subject}\\n\\n{message}\"\n",
    "#     s.sendmail(email, receiver_email, text)\n",
    "#     print(\"email send for \"+receiver_email+\" by \"+sender_email)\n",
    "    \n",
    "#     s.quit()\n",
    "# print(\"email sending completed\")"
   ]
  },
  {
   "cell_type": "code",
   "execution_count": 62,
   "id": "3b6e3291-2844-4fea-9e1d-6650d6362d54",
   "metadata": {},
   "outputs": [
    {
     "name": "stderr",
     "output_type": "stream",
     "text": [
      "c:\\Users\\Souvik\\AppData\\Local\\Programs\\Python\\Python313\\Lib\\site-packages\\openpyxl\\worksheet\\_reader.py:329: UserWarning: Data Validation extension is not supported and will be removed\n",
      "  warn(msg)\n"
     ]
    },
    {
     "name": "stdout",
     "output_type": "stream",
     "text": [
      "email send for fergusdaw2000@gmail.com by souvik.daw@humbleandintelligent.online\n",
      "email send for fergusdaw2000@gmail.com by souvik.daw@humbleandintelligent.online\n",
      "email send for fergusdaw2000@gmail.com by souvik.daw@humbleandintelligent.online\n",
      "email send for fergusdaw2000@gmail.com by souvik.daw@humbleandintelligent.online\n",
      "email send for fergusdaw2000@gmail.com by souvik.daw@humbleandintelligent.online\n",
      "email send for fergusdaw2000@gmail.com by souvik.daw@humbleandintelligent.online\n",
      "email send for fergusdaw2000@gmail.com by souvik.daw@humbleandintelligent.online\n",
      "email send for fergusdaw2000@gmail.com by souvik.daw@humbleandintelligent.online\n",
      "email send for fergusdaw2000@gmail.com by souvik.daw@humbleandintelligent.online\n",
      "email send for fergusdaw2000@gmail.com by souvik.daw@humbleandintelligent.online\n",
      "email send for fergusdaw2000@gmail.com by souvik.daw@humbleandintelligent.online\n",
      "email sending completed\n"
     ]
    }
   ],
   "source": [
    "#bulk email sender with dynamic email content change\n",
    "emailList = pd.read_excel('email.xlsx')\n",
    "for index, row in emailList.iterrows():\n",
    "    sender_email = row['sender']\n",
    "    email = sender_email\n",
    "    s = smtplib.SMTP('smtp.stackmail.com', 587)\n",
    "    s.starttls()\n",
    "    s.login(email, \"souvik123\")\n",
    "    receiver_email = row['email']\n",
    "    receiver_name = row['name']\n",
    "    subject = \"Just a quick question for 7\"+receiver_name\n",
    "\n",
    "    point = row['points']\n",
    "    if point == \"ssl\":\n",
    "        message = \"Dear \" + receiver_name + \"\\n\\nI recently visited your website and noticed a few opportunities where we can make some impactful improvements:\\n\\n1.An outdated design that could lose user interest quickly\\n2.Information overload with content that does not engage the user\\n3.Improper SSL configuration, resulting in security warnings for users\\n4.Missing on page SEO optimizations, making it harder for you to rank on search engines\\n\\nI would love to offer a free 15-minute consultation call to discuss how we can fix these issues and build a website that works for your business.\\n\\nHere is the best part: You do not pay a dime unless you love the results!\\n\\nI know you get a lot of cold emails, but I encourage you to hear it straight from our satisfied clients: kodingcircle.in/review.\\n\\nFeel free to let me know what time works for you this week, or give me a call at your convenience at 85848 55651.\\n\\nBest regards,\\n\\nAarav Malhotra\\nFounder, Kodingcircle\\nPhone: 85848 55651\\nWebsite: kodingcircle.in\"\n",
    "    elif point == \"average\":\n",
    "        message = \"Dear \" + receiver_name + \"\\n\\nI recently visited your website and noticed a few opportunities where we can make some impactful improvements:\\n\\n1.An outdated design that could lose user interest quickly\\n2.Information overload with content that does not engage the user\\n3.Lack of strong brand identity using too many colors makes it hard to stand out from your competition\\n\\nI would love to offer a free 15-minute consultation call to discuss how we can fix these issues and build a website that works for your business.\\n\\nHere is the best part: You do not pay a dime unless you love the results!\\n\\nI know you get a lot of cold emails, but I encourage you to hear it straight from our satisfied clients: kodingcircle.in/review.\\n\\nFeel free to let me know what time works for you this week, or give me a call at your convenience at 85848 55651.\\n\\nBest regards,\\n\\nAarav Malhotra\\nFounder, Kodingcircle\\nPhone: 85848 55651\\nWebsite: kodingcircle.in\"\n",
    "    elif point == \"below average\":\n",
    "        message = \"Dear \" + receiver_name + \"\\n\\nI recently visited your website and noticed a few opportunities where we can make some impactful improvements:\\n\\n1.An outdated design that could lose user interest quickly\\n2.Information overload with content that does not engage the user\\n3.Lack of strong brand identity using too many colors makes it hard to stand out from your competition\\n\\nI would love to offer a free 15-minute consultation call to discuss how we can fix these issues and build a website that works for your business.\\n\\nHere is the best part: You do not pay a dime unless you love the results!\\n\\nI know you get a lot of cold emails, but I encourage you to hear it straight from our satisfied clients: kodingcircle.in/review.\\n\\nFeel free to let me know what time works for you this week, or give me a call at your convenience at 85848 55651.\\n\\nBest regards,\\n\\nAarav Malhotra\\nFounder, Kodingcircle\\nPhone: 85848 55651\\nWebsite: kodingcircle.in\"\n",
    "    elif point == \"ssl + average\":\n",
    "        message = \"Dear \" + receiver_name + \"\\n\\nI recently visited your website and noticed a few opportunities where we can make some impactful improvements:\\n\\n1.An outdated design that could lose user interest quickly\\n2.Information overload with content that does not engage the user\\n3.Lack of strong brand identity using too many colors makes it hard to stand out from your competition\\n4.Improper SSL configuration, resulting in security warnings for users\\n\\nI would love to offer a free 15-minute consultation call to discuss how we can fix these issues and build a website that works for your business.\\n\\nHere is the best part: You do not pay a dime unless you love the results!\\n\\nI know you get a lot of cold emails, but I encourage you to hear it straight from our satisfied clients: kodingcircle.in/review.\\n\\nFeel free to let me know what time works for you this week, or give me a call at your convenience at 85848 55651.\\n\\nBest regards,\\nAarav Malhotra\\nFounder, Kodingcircle\\nPhone: 85848 55651\\nWebsite: kodingcircle.in\"\n",
    "    elif point == \"ssl + below average\":\n",
    "        message = \"Dear \" + receiver_name + \"\\n\\nI recently visited your website and noticed a few opportunities where we can make some impactful improvements:\\n\\n1.An outdated design that could lose user interest quickly\\n2.Information overload with content that does not engage the user\\n3.Lack of strong brand identity using too many colors makes it hard to stand out from your competition\\n4.Improper SSL configuration, resulting in security warnings for users\\n5.Missing on page SEO optimizations, making it harder for you to rank on search engines\\n\\nI would love to offer a free 15-minute consultation call to discuss how we can fix these issues and build a website that works for your business.\\n\\nHere is the best part: You do not pay a dime unless you love the results!\\n\\nI know you get a lot of cold emails, but I encourage you to hear it straight from our satisfied clients: kodingcircle.in/review.\\n\\nFeel free to let me know what time works for you this week, or give me a call at your convenience at 85848 55651.\\n\\nBest regards,\\nAarav Malhotra\\nFounder, Kodingcircle\\nPhone: 85848 55651\\nWebsite: kodingcircle.in\"\n",
    "    elif point == \"followup 1\":\n",
    "        message = \"Dear \"+receiver_name+\"\\n\\nI understand you might be busy, so I will keep this brief. If you are still interested in updating your website or creating something new, we would love to help.\\n\\nFeel free to reach out anytime!\\n\\nRegards,\\nAarav Malhotra\\n85848 55651\\nkodingcircle.in\"\n",
    "    elif point == \"followup 2\":\n",
    "        message = \"Dear \"+receiver_name+\"\\n\\nI wanted to quickly follow up on my previous email. We specialize in creating advanced portfolios and custom websites at Kodingcircle. I believe we can help you elevate your online presence.\\n\\nLet me know if you would like to discuss how we can collaborate.\\n\\nRegards,\\nAarav Malhotra\\n85848 55651\\nkodingcircle.in\"\n",
    "    elif point == \"followup 3\":\n",
    "        message = \"Dear \"+receiver_name+\"\\n\\nI just wanted to circle back and see if you had a chance to review my previous message. At Kodingcircle, we are passionate about helping businesses stand out with unique, custom websites.\\n\\nI would love to hear your thoughts and see how we can assist with your online presence.\\n\\nRegards,\\nAarav Malhotra\\n85848 55651\\nkodingcircle.in\"\n",
    "    elif point == \"followup 4\":\n",
    "        message = \"Dear \"+receiver_name+\"\\n\\nI hope this message finds you well. I would appreciate a brief reply with a \\\"Yes\\\" or \\\"No\\\" regarding your interest in our services. If you are not interested, I will ensure you are removed from my email list.\\n\\nThank you for your time, and I look forward to your response.\\n\\nBest regards,\\nAarav Malhotra\\nFounder, Kodingcircle\\nPhone: 85848 55651\\nWebsite: kodingcircle.in\"\n",
    "    elif point == \"referal\":\n",
    "        message = \"Dear \"+receiver_name+\"\\n\\nIf you know anyone in your network, friends, family, or colleagues who could benefit from our services, I would greatly appreciate your referral.\\n\\nYour recommendation means a lot to us, and it helps us continue to grow and serve more clients effectively.\\n\\nBest regards,\\nAarav Malhotra\\nFounder, Kodingcircle\\nPhone: 85848 55651\\nWebsite: kodingcircle.in\"\n",
    "    else:\n",
    "        message = \"Dear \"+receiver_name+\"\\n\\nI will build an SEO friendly website for you. Do not pay if you dont like it!\\n\\nI know you get a lot of cold emails, but I encourage you to hear it straight from our satisfied clients at kodingcircle.in/review.\\n\\nLet me know what time works for you this week, or call me at your convenience at 85848 55651.\\n\\nBest regards,\\n\\nAarav Malhotra\\nFounder, Kodingcircle\\nPhone: 85848 55651\\nWebsite: kodingcircle.in\"\n",
    "\n",
    "    text = f\"Subject: {subject}\\n\\n{message}\"\n",
    "    s.sendmail(email, receiver_email, text)\n",
    "    print(\"email send for \"+receiver_email+\" by \"+sender_email)\n",
    "    sleep = random.sample(range(4, 9), 1)\n",
    "    #time.sleep(sleep[0])\n",
    "    \n",
    "    s.quit()\n",
    "print(\"email sending completed\")"
   ]
  }
 ],
 "metadata": {
  "kernelspec": {
   "display_name": "Python 3",
   "language": "python",
   "name": "python3"
  },
  "language_info": {
   "codemirror_mode": {
    "name": "ipython",
    "version": 3
   },
   "file_extension": ".py",
   "mimetype": "text/x-python",
   "name": "python",
   "nbconvert_exporter": "python",
   "pygments_lexer": "ipython3",
   "version": "3.13.0"
  }
 },
 "nbformat": 4,
 "nbformat_minor": 5
}
